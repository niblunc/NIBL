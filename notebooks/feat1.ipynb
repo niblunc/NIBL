{
 "cells": [
  {
   "cell_type": "markdown",
   "metadata": {},
   "source": [
    "# Feat 1 Check  \n",
    "Here we go over quality checking our feat1 directories made by FSL!"
   ]
  },
  {
   "cell_type": "code",
   "execution_count": 1,
   "metadata": {},
   "outputs": [],
   "source": [
    "import os, glob"
   ]
  },
  {
   "cell_type": "code",
   "execution_count": 2,
   "metadata": {},
   "outputs": [
    {
     "name": "stdout",
     "output_type": "stream",
     "text": [
      "Enter target study bids path: /projects/niblab/bids_projects/Experiments/bbx/bids\n"
     ]
    }
   ],
   "source": [
    "# get feat1 directories\n",
    "bids_path=input(\"Enter target study bids path: \")"
   ]
  },
  {
   "cell_type": "code",
   "execution_count": 5,
   "metadata": {},
   "outputs": [],
   "source": [
    "subjects = sorted(glob.glob(os.path.join(bids_path, \"derivatives/sub-*/ses-1\")))"
   ]
  },
  {
   "cell_type": "code",
   "execution_count": 16,
   "metadata": {},
   "outputs": [
    {
     "name": "stdout",
     "output_type": "stream",
     "text": [
      "/projects/niblab/bids_projects/Experiments/bbx/bids/derivatives/sub-001/ses-1/func/Analysis/feat1/ses-1_task-training_run-1.feat/design.png\n",
      "/projects/niblab/bids_projects/Experiments/bbx/bids/derivatives/sub-001/ses-1/func/Analysis/feat1/ses-1_task-training_run-2.feat/design.png\n",
      "/projects/niblab/bids_projects/Experiments/bbx/bids/derivatives/sub-001/ses-1/func/Analysis/feat1/ses-1_task-training_run-3.feat/design.png\n",
      "/projects/niblab/bids_projects/Experiments/bbx/bids/derivatives/sub-001/ses-1/func/Analysis/feat1/ses-1_task-training_run-4.feat/design.png\n",
      "/projects/niblab/bids_projects/Experiments/bbx/bids/derivatives/sub-002/ses-1/func/Analysis/feat1/ses-1_task-training_run-1.feat/design.png\n",
      "/projects/niblab/bids_projects/Experiments/bbx/bids/derivatives/sub-002/ses-1/func/Analysis/feat1/ses-1_task-training_run-2.feat/design.png\n",
      "/projects/niblab/bids_projects/Experiments/bbx/bids/derivatives/sub-002/ses-1/func/Analysis/feat1/ses-1_task-training_run-3.feat/design.png\n",
      "/projects/niblab/bids_projects/Experiments/bbx/bids/derivatives/sub-002/ses-1/func/Analysis/feat1/ses-1_task-training_run-4.feat/design.png\n",
      "/projects/niblab/bids_projects/Experiments/bbx/bids/derivatives/sub-003/ses-1/func/Analysis/feat1/ses-1_task-training_run-1.feat/design.png\n",
      "/projects/niblab/bids_projects/Experiments/bbx/bids/derivatives/sub-003/ses-1/func/Analysis/feat1/ses-1_task-training_run-2.feat/design.png\n",
      "/projects/niblab/bids_projects/Experiments/bbx/bids/derivatives/sub-003/ses-1/func/Analysis/feat1/ses-1_task-training_run-3.feat/design.png\n",
      "/projects/niblab/bids_projects/Experiments/bbx/bids/derivatives/sub-003/ses-1/func/Analysis/feat1/ses-1_task-training_run-4.feat/design.png\n"
     ]
    }
   ],
   "source": [
    "for sub_path in subjects[:3]:\n",
    "    sub_id = sub_path.split(\"/\")[-2]\n",
    "    feat1_path = os.path.join(sub_path, \"func/Analysis/feat1\")\n",
    "    feat1_dirs = sorted(glob.glob(os.path.join(feat1_path, \"*.feat\")))\n",
    "    for f1_dir in feat1_dirs:\n",
    "        design_img1 = \"%s/design.png\"%f1_dir\n",
    "        design_img2 = \"%s/design_cov.png\"%f1_dir\n",
    "        func2high_img = \"%s/reg/example_func2highres.png\"%f1_dir\n",
    "        func2std_img = \"%s/reg/example_func2standard.png\"%f1_dir\n",
    "        high2std_img = \"%s/reg/highres2standard.png\"%f1_dir\n",
    "        print()"
   ]
  },
  {
   "cell_type": "code",
   "execution_count": null,
   "metadata": {},
   "outputs": [],
   "source": []
  }
 ],
 "metadata": {
  "kernelspec": {
   "display_name": "Python 3",
   "language": "python",
   "name": "python3"
  },
  "language_info": {
   "codemirror_mode": {
    "name": "ipython",
    "version": 3
   },
   "file_extension": ".py",
   "mimetype": "text/x-python",
   "name": "python",
   "nbconvert_exporter": "python",
   "pygments_lexer": "ipython3",
   "version": "3.7.4"
  }
 },
 "nbformat": 4,
 "nbformat_minor": 2
}
