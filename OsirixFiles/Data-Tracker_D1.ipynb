{
 "cells": [
  {
   "cell_type": "markdown",
   "metadata": {},
   "source": [
    "# Draft for tracking data on Renci and Osirix and Pacs  \n",
    "- we need to get data from Renci (subjects currently on there)\n",
    "- then we need to gather data from Pacs and Osirix and move to Renci"
   ]
  },
  {
   "cell_type": "code",
   "execution_count": null,
   "metadata": {},
   "outputs": [],
   "source": [
    "import glob,os \n",
    "# IF data has been previously uploaded - get subjects off of RENCI  \n",
    "# Example data will be bro w/ 2 sessions\n",
    "\n",
    "def find_missing(lst):\n",
    "    return [x for x in range(1, int(lst[-1])) if x not in lst] \n",
    "\n",
    "def get_renci_data(path, dict_,sess, dcm_path):\n",
    "    subjects = glob.glob(os.path.join(path, 'sub-*'))\n",
    "    sub_ids = [x.split(\"/\")[-1].split('-')[1] for x in subjects]\n",
    "    id_lst = [x.lstrip(\"0\") for x in sub_ids]\n",
    "    id_lst = [int(x) for x in id_lst]\n",
    "    id_lst = sorted(id_lst)\n",
    "    miss_lst = find_missing(id_lst)\n",
    "    sub_string = \"SUBJECTS FOR {}: \\n{}\\n\".format(sess, id_lst)\n",
    "    sub_string_2 = \"MISSING SUBJECTS IN CURRENT RANGE: \\n{}\\n\".format(miss_lst)\n",
    "    print(sub_string)\n",
    "    print(\"MISSING SUBJECTS IN CURRENT RANGE: \\n{}\\n\".format(miss_lst))\n",
    "    filename=os.path.join(dcm_path, \"bro_subject-list_{}.txt\".format(sess))\n",
    "    fileout = open(filename, 'w')\n",
    "    fileout.write(sub_string)\n",
    "    fileout.write(sub_string_2)\n",
    "    fileout.close()\n",
    "    \n",
    "def main():\n",
    "    dict_ = {}\n",
    "    # get base dir\n",
    "    dcm_dir_path = '/projects/niblab/bids_projects/Experiments/BRO/DICOM'\n",
    "    sessions = ['ses-1', 'ses-2']\n",
    "    for sess in sessions:\n",
    "        if sess not in dict_:\n",
    "            dict_[sess] = []\n",
    "        sess_path = os.path.join(dcm_dir_path, sess)\n",
    "        get_renci_data(sess_path, dict_, sess, dcm_dir_path)\n",
    "    \n",
    "# ELSE go to next step\n",
    "\n",
    "main()\n",
    "\n"
   ]
  }
 ],
 "metadata": {
  "kernelspec": {
   "display_name": "Python 3",
   "language": "python",
   "name": "python3"
  },
  "language_info": {
   "codemirror_mode": {
    "name": "ipython",
    "version": 3
   },
   "file_extension": ".py",
   "mimetype": "text/x-python",
   "name": "python",
   "nbconvert_exporter": "python",
   "pygments_lexer": "ipython3",
   "version": "3.7.3"
  }
 },
 "nbformat": 4,
 "nbformat_minor": 4
}
