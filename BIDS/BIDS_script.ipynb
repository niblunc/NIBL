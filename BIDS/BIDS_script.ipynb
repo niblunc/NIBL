{
 "cells": [
  {
   "cell_type": "code",
   "execution_count": 1,
   "metadata": {},
   "outputs": [],
   "source": [
    "import glob\n",
    "import argparse\n",
    "import os"
   ]
  },
  {
   "cell_type": "code",
   "execution_count": null,
   "metadata": {},
   "outputs": [],
   "source": [
    "def set_parser():\n",
    "    global parser\n",
    "    global arglist\n",
    "    global args\n",
    "    parser=argparse.ArgumentParser(description='bids conversion')\n",
    "    parser.add_argument('-indir',dest='INDIR',\n",
    "                        default=False, help='enter directory where the sub-*/ directories are found')\n",
    "    parser.add_argument('-name',dest='STUDY',\n",
    "                        default=False, help='enter the study name, must be the same as found in the input path')\n",
    "    parser.add_argument('-outdir',dest='OUTDIR',\n",
    "                        default=False, help='enter directory where you want the output to go')\n",
    "    parser.add_argument('-multisess',dest='SESS',\n",
    "                        action=\"store_true\", help=\"if multiple session use this param\")\n",
    "    parser.add_argument('-heuristic',dest='HEURFILE',\n",
    "                        default=False, help='enter the absolute path to the heuristic file')\n",
    "    parser.add_argument('-dicompath',dest='DCMPATH',\n",
    "                        default=False, help='enter the unique dicom path (as described in docs)')\n",
    "\n",
    "\n",
    "    args = parser.parse_args()\n",
    "    arglist={}\n",
    "    for a in args._get_kwargs():\n",
    "        arglist[a[0]]=a[1]\n"
   ]
  },
  {
   "cell_type": "code",
   "execution_count": null,
   "metadata": {},
   "outputs": [],
   "source": [
    "def run_batch():\n",
    "    "
   ]
  },
  {
   "cell_type": "code",
   "execution_count": 10,
   "metadata": {},
   "outputs": [],
   "source": [
    "def set_commands(subID):\n",
    "    unique_cmd = \"-d %s -s %s -f %s -c %s -b -o %s/%s\"%(INPUT, SUBJECT, HEURISTIC, \"dcm2niix\", OUTPUT, subID)\n",
    "    heudiconv_cmd = \"singularity exec -B /:/test /projects/niblab/bids_projects/Singularity_Containers/heudiconv.simg heudiconv -b \" \n",
    "    cmdX = heudiconv_cmd + unique_cmd \n",
    "    \n",
    "    print(cmdX)"
   ]
  },
  {
   "cell_type": "code",
   "execution_count": 13,
   "metadata": {},
   "outputs": [
    {
     "name": "stdout",
     "output_type": "stream",
     "text": [
      "singularity exec -B /:/test /projects/niblab/bids_projects/Singularity_Containers/heudiconv.simg heudiconv -b -d /test/test/case -s STUDYX -f /test/myfile.py -c dcm2niix -b -o /test/test/output/sub-001\n",
      "singularity exec -B /:/test /projects/niblab/bids_projects/Singularity_Containers/heudiconv.simg heudiconv -b -d /test/test/case -s STUDYX -f /test/myfile.py -c dcm2niix -b -o /test/test/output/sub-002\n",
      "singularity exec -B /:/test /projects/niblab/bids_projects/Singularity_Containers/heudiconv.simg heudiconv -b -d /test/test/case -s STUDYX -f /test/myfile.py -c dcm2niix -b -o /test/test/output/sub-003\n",
      "singularity exec -B /:/test /projects/niblab/bids_projects/Singularity_Containers/heudiconv.simg heudiconv -b -d /test/test/case -s STUDYX -f /test/myfile.py -c dcm2niix -b -o /test/test/output/sub-004\n"
     ]
    }
   ],
   "source": [
    "SUBS = [\"sub-001\", \"sub-002\", \"sub-003\", \"sub-004\"]\n",
    "\n",
    "\n",
    "def main():\n",
    "    global INPUT\n",
    "    global OUTPUT \n",
    "    global HEURISTIC \n",
    "    global SUBJECT\n",
    "    #SUBJECT = arglist[\"STUDY\"]\n",
    "    SUBJECT = \"STUDYX\"\n",
    "    #INPUT = \"/test\"+arglist[\"INDIR\"]\n",
    "    INPUT = \"/test/case\"\n",
    "    HEURISTIC = \"/test\"+arglist[\"HEURFILE\"]\n",
    "    #HEURISTIC = \"/myfile.py\"\n",
    "    #OUTPUT = \"/test\"+arglist[\"OUTDIR\"]\n",
    "    OUTPUT = \"/test/output\"\n",
    "    #set_parser()\n",
    "    INPUT = \"/test\"+INPUT\n",
    "    HEURISTIC = \"/test\"+HEURISTIC\n",
    "    OUTPUT = \"/test\"+OUTPUT\n",
    "    for sub in SUBS:\n",
    "        set_commands(sub)\n",
    "main()"
   ]
  },
  {
   "cell_type": "code",
   "execution_count": 15,
   "metadata": {},
   "outputs": [],
   "source": [
    "import subprocess\n",
    "import random\n",
    "\n",
    "item = subprocess.Popen([\"test.bat\", str(random.randrange(0,20))], shell=True, stdout=subprocess.PIPE)\n"
   ]
  }
 ],
 "metadata": {
  "kernelspec": {
   "display_name": "Python 3",
   "language": "python",
   "name": "python3"
  },
  "language_info": {
   "codemirror_mode": {
    "name": "ipython",
    "version": 3
   },
   "file_extension": ".py",
   "mimetype": "text/x-python",
   "name": "python",
   "nbconvert_exporter": "python",
   "pygments_lexer": "ipython3",
   "version": "3.6.5"
  }
 },
 "nbformat": 4,
 "nbformat_minor": 2
}
