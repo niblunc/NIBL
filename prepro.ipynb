{
 "cells": [
  {
   "cell_type": "code",
   "execution_count": 1,
   "metadata": {},
   "outputs": [],
   "source": [
    "from multiprocessing import Pool\n",
    "#import pandas as pd\n",
    "#import numpy as np\n",
    "#import matplotlib.pyplot as plt\n",
    "import glob\n",
    "import argparse\n",
    "import os\n",
    "import subprocess\n",
    "import datetime\n",
    "import shutil"
   ]
  },
  {
   "cell_type": "markdown",
   "metadata": {},
   "source": [
    "The set_paths(sub) method assigns variables for our directory paths.\n",
    "[input (BIDS), output(anat, func, motion_assesment)]\n",
    "It takes the subject ID as an argument, and **it is called from get_subjects()\n"
   ]
  },
  {
   "cell_type": "code",
   "execution_count": null,
   "metadata": {},
   "outputs": [],
   "source": [
    "def set_paths(sub):\n",
    "    global func_output_path\n",
    "    global anat_output_path\n",
    "    global func_input_path\n",
    "    global motion_assessment_path\n",
    "\n",
    "    if arglist[\"SES\"] == False:\n",
    "        out_dir = os.path.join(derivatives_dir, sub)\n",
    "        func_input_path=os.path.join(input_dir,sub,\"fmriprep\", sub, \"func\")\n",
    "    else:\n",
    "        out_dir = os.path.join(derivatives_dir, sub, arglist[\"SES\"])\n",
    "        func_input_path=os.path.join(input_dir,sub,arglist[\"SES\"], \"fmriprep\", sub,arglist[\"SES\"], \"func\")\n",
    "    \n",
    "    \n",
    "    anat_output_path=os.path.join(out_dir, 'anat')\n",
    "    func_output_path=os.path.join(out_dir,'func')\n",
    "    motion_assessment_path=os.path.join(out_dir,'func','motion_assessment')"
   ]
  },
  {
   "cell_type": "markdown",
   "metadata": {},
   "source": [
    "The get_subjects() method gets an input directory, the BIDS path, we ask for the \"top level\" BIDS directory, where the subjects are listed, ~/STUDYNAME. For the output directory we ask for you to provide the location where you would like your derivatives directory to be, or the path to its location, however do not include the derivatives directory."
   ]
  },
  {
   "cell_type": "code",
   "execution_count": null,
   "metadata": {},
   "outputs": [],
   "source": [
    "def get_subjects():\n",
    "    # Get subjects from input directory\n",
    "    sub_dir=glob.glob(os.path.join(input_dir, 'sub*'))\n",
    "    for path in sub_dir:\n",
    "        sub = path.split(\"/\")[-1]\n",
    "        subjects.append(sub)\n",
    "    \n",
    "    for sub in sorted(subjects):\n",
    "        set_paths(sub)\n",
    "        if args.STRIP == True:\n",
    "            skull_strip(sub)\n",
    "        if args.MOCO == True:\n",
    "            fd_check(sub)\n",
    "\n",
    "\n"
   ]
  }
 ],
 "metadata": {
  "kernelspec": {
   "display_name": "Python 3",
   "language": "python",
   "name": "python3"
  },
  "language_info": {
   "codemirror_mode": {
    "name": "ipython",
    "version": 3
   },
   "file_extension": ".py",
   "mimetype": "text/x-python",
   "name": "python",
   "nbconvert_exporter": "python",
   "pygments_lexer": "ipython3",
   "version": "3.6.5"
  }
 },
 "nbformat": 4,
 "nbformat_minor": 2
}
