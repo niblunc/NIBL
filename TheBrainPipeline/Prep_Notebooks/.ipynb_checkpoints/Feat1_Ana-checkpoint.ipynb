{
 "cells": [
  {
   "cell_type": "markdown",
   "metadata": {},
   "source": [
    "# Feature 1 Analysis \n",
    "\n",
    "Before running feat 1 we need to ensure we have the necessary files.  \n",
    "Our pre-requisites are:\n",
    "* Skull stripped functional files\n",
    "* Motion assessed (*_confounds.txt) files\n",
    "* Motion corrected (*_mocoX.txt) files  \n",
    "\n",
    "------> Reference: ##PUT RERENCE URL HERE\n",
    "\n"
   ]
  },
  {
   "cell_type": "code",
   "execution_count": null,
   "metadata": {},
   "outputs": [],
   "source": [
    "import os, glob\n",
    "import pandas as pd\n",
    "\n",
    "DERIV_DIR = \"/projects/niblab/bids_projects/Experiments/Bevel/derivatives\"\n",
    "SUBJECTS = sorted(glob.glob(os.path.join(DERIV_DIR, \"sub-*\")))\n",
    "SUBJ_COUNT = len(SUBJECTS)\n",
    "qa_dict={}\n",
    "def make_dict(sub):\n",
    "    qa_dict[sub] ={\n",
    "            'FUNC_COUNT' : 0,\n",
    "            'ANAT_COUNT' : 0,\n",
    "            'EV_COUNT' : 0,\n",
    "            'FD_COUNT' : 0,\n",
    "            'MOT_COUNT' : 0,\n",
    "            'ANAT_CHECK' : None,\n",
    "            'FUNC_CHECK' : None,\n",
    "            'EV_CHECK' : None,\n",
    "            'FD_CHECK' : None,\n",
    "            'MOT_CHECK' : None\n",
    "            \n",
    "        }\n",
    "\n",
    "# set up dict with subjects\n",
    "for sub_dir in SUBJECTS:\n",
    "    sub_id = sub_dir.split(\"/\")[-1] \n",
    "    if sub_id not in qa_dict:\n",
    "        make_dict(sub_id)\n",
    "        \n",
    "# Count skull stripped functionals \n",
    "    funcs = glob.glob(os.path.join(sub_dir, \"func/*preproc_brain.nii.gz\"))\n",
    "    anat = glob.glob(os.path.join(sub_dir, \"anat/*\"))\n",
    "    evs = glob.glob(os.path.join(sub_dir, \"func/onsets/*.txt\"))\n",
    "    fds = glob.glob(os.path.join(sub_dir, \"func/motion_assessment/*confound.txt\"))\n",
    "    motions = glob.glob(os.path.join(sub_dir, \"func/motion_assessment/motion_parameters/*.txt\"))\n",
    "    \n",
    "    func_count = len(funcs)\n",
    "    anat_count = len(anat)\n",
    "    ev_count = len(evs)\n",
    "    fd_count = len(fds)\n",
    "    motion_count= len(motions)\n",
    "    \n",
    "    qa_dict[sub_id]['FUNC_COUNT'] = func_count\n",
    "    qa_dict[sub_id]['ANAT_COUNT'] = anat_count\n",
    "    qa_dict[sub_id]['EV_COUNT'] = ev_count\n",
    "    qa_dict[sub_id]['FD_COUNT'] = fd_count\n",
    "    qa_dict[sub_id]['MOT_COUNT'] = motion_count\n",
    "    \n",
    "    if func_count == 5:\n",
    "        qa_dict[sub_id][\"FUNC_CHECK\"] = \"PASS\"\n",
    "    else:\n",
    "        qa_dict[sub_id][\"FUNC_CHECK\"] = \"FAIL\"\n",
    "    if anat_count == 1:\n",
    "        qa_dict[sub_id][\"ANAT_CHECK\"] = \"PASS\"\n",
    "    else:\n",
    "        qa_dict[sub_id][\"ANAT_CHECK\"] = \"FAIL\"\n",
    "    if ev_count == 16:\n",
    "        qa_dict[sub_id][\"EV_CHECK\"] = \"PASS\"\n",
    "    else:\n",
    "        qa_dict[sub_id][\"EV_CHECK\"] = \"FAIL\"\n",
    "    if fd_count == 5:\n",
    "        qa_dict[sub_id][\"FD_CHECK\"] = \"PASS\"\n",
    "    else:\n",
    "        qa_dict[sub_id][\"FD_CHECK\"] = \"FAIL\"\n",
    "    if motion_count == 25:\n",
    "        qa_dict[sub_id][\"MOT_CHECK\"] = \"PASS\"\n",
    "    else:\n",
    "        qa_dict[sub_id][\"MOT_CHECK\"] = \"FAIL\"\n",
    "        \n",
    "df = pd.DataFrame(qa_dict)\n",
    "df = df.T\n",
    "check_df = df[[\"ANAT_CHECK\", \"EV_CHECK\", \"FD_CHECK\", \"MOT_CHECK\", \"FUNC_CHECK\"]]\n",
    "\n",
    "FAILED_SUBJECTS = []\n",
    "for index, row in check_df.iterrows():\n",
    "    if row['FUNC_CHECK'] == \"FAIL\" or row['ANAT_CHECK'] == \"FAIL\" or row['EV_CHECK'] == \"FAIL\" or row[\"FD_CHECK\"] == \"FAIL\" or row[\"MOT_CHECK\"] == \"FAIL\":\n",
    "        FAILED_SUBJECTS.append(row)\n",
    "\n",
    "        \n",
    "    "
   ]
  },
  {
   "cell_type": "markdown",
   "metadata": {},
   "source": [
    "\n",
    "### Feat 1 Workflow\n",
    "**I.   Get design.fsf file & make the _template_  \n",
    "II.  Make design files for each subject   \n",
    "III. Make script to run feat on .fsf files   \n",
    "IV.  Quality check directories**       \n",
    "\n",
    "### Step I.   Make design 1 template  \n",
    "\n",
    "---> We need to open up the GUI and get our design file <design.fsf>,  \n",
    "---> then we replace input values with variable names,  \n",
    "---> and finally we rename it to *<design1.fsf>*\n",
    "\n",
    "\n",
    "\n"
   ]
  },
  {
   "cell_type": "markdown",
   "metadata": {},
   "source": [
    "##### Step II. Make design files for each subject\n",
    "---> Run <fsf-design1.py> to make design files for all subjects _*Original script may need modified_  "
   ]
  },
  {
   "cell_type": "markdown",
   "metadata": {},
   "source": [
    "##### IV. Make script to run feat on .fsf files  \n",
    "\n",
    "At this point we should have <.fsf> files for each of our subjects and individual runs/tasks/etc. Now we will be able to run our. <*.fsf> files. To do this we simply submit a batch job."
   ]
  },
  {
   "cell_type": "markdown",
   "metadata": {},
   "source": [
    "##### V. Quality Analysis  \n",
    "\n",
    "We now need to make sure our desired directories and files were made. There are a few things that may be unique to each study, but we can still follow certain quality checks.\n",
    "\n",
    "---> Check logs files\n",
    "\n"
   ]
  },
  {
   "cell_type": "markdown",
   "metadata": {},
   "source": [
    "---> Check for stats/ directory: look for cope files, (# cope[1-X].nii.gz files = EVs)   \n",
    "---> Check for filtered_func_data.nii.gz file  "
   ]
  },
  {
   "cell_type": "code",
   "execution_count": null,
   "metadata": {},
   "outputs": [],
   "source": []
  }
 ],
 "metadata": {
  "kernelspec": {
   "display_name": "Python 3",
   "language": "python",
   "name": "python3"
  },
  "language_info": {
   "codemirror_mode": {
    "name": "ipython",
    "version": 3
   },
   "file_extension": ".py",
   "mimetype": "text/x-python",
   "name": "python",
   "nbconvert_exporter": "python",
   "pygments_lexer": "ipython3",
   "version": "3.6.5"
  }
 },
 "nbformat": 4,
 "nbformat_minor": 2
}
