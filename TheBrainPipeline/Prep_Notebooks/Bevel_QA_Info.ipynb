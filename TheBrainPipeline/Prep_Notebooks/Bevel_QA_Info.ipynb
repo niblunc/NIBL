{
 "cells": [
  {
   "cell_type": "markdown",
   "metadata": {},
   "source": [
    "# Bevel Information \n",
    "### Relevant information to be used for reference in Quality Analysis (QA)\n",
    "Functional files (5):  \n",
    "task-prob_run-1, task-prob_run-2, task-prob_run-3, task-prob_run-4, task-rest  \n",
    "  \n",
    "Anat file (1):  \n",
    "highres.nii.gz  \n",
    "\n",
    "EV files (16):  \n",
    "task-bitter_run-1, task-img_run-1, task-neu_run-1, task-sweet_run-1  \n",
    "task-bitter_run-2, task-img_run-2, task-neu_run-2, task-sweet_run-2  \n",
    "task-bitter_run-3, task-img_run-3, task-neu_run-3, task-sweet_run-3  \n",
    "task-bitter_run-4, task-img_run-4, task-neu_run-4, task-sweet_run-4  \n",
    "  \n",
    "FD files (5):  \n",
    "task-prob_run-1_confound.txt  \n",
    "task-prob_run-2_confound.txt  \n",
    "task-prob_run-3_confound.txt  \n",
    "task-prob_run-4_confound.txt  \n",
    "task-rest_confound.txt  \n",
    "  \n",
    "Motion Parameter Files (25):  \n",
    "task-prob_run-1_moco0.txt, task-prob_run-1_moco1.txt, task-prob_run-1_moco2.txt, task-prob_run-1_moco3.txt, task-prob_run-1_moco4.txt, task-prob_run-1_moco5.txt  \n",
    "task-prob_run-2_moco0.txt, task-prob_run-2_moco1.txt, task-prob_run-2_moco2.txt, task-prob_run-2_moco3.txt, task-prob_run-1_moco4.txt, task-prob_run-2_moco5.txt  \n",
    "task-prob_run-3_moco0.txt, task-prob_run-3_moco1.txt, task-prob_run-3_moco2.txt, task-prob_run-3_moco3.txt, task-prob_run-1_moco4.txt, task-prob_run-3_moco5.txt  \n",
    "task-prob_run-4_moco0.txt, task-prob_run-4_moco1.txt, task-prob_run-4_moco2.txt, task-prob_run-4_moco3.txt, task-prob_run-1_moco4.txt ,task-prob_run-4_moco5.txt  \n",
    "task-rest.txt"
   ]
  },
  {
   "cell_type": "markdown",
   "metadata": {},
   "source": [
    "## Expected BIDS Directory  \n",
    "    sub-001/  \n",
    "        anat/ \n",
    "            sub-001_T1w.json\n",
    "            sub-001_T1w.nii.gz\n",
    "        fmap/\n",
    "            sub-001_magnitude1.json\n",
    "            sub-001_magnitude2.json \n",
    "            sub-001_phasediff.json\n",
    "            sub-001_magnitude1.nii.gz \n",
    "            sub-001_magnitude2.nii.gz  \n",
    "            sub-001_phasediff.nii.gz\n",
    "        func/\n",
    "            sub-001_task-prob_run-1_bold.json\n",
    "            sub-001_task-prob_run-2_events.tsv  \n",
    "            sub-001_task-prob_run-4_bold.nii.gz\n",
    "            sub-001_task-prob_run-1_bold.nii.gz  \n",
    "            sub-001_task-prob_run-3_bold.json    \n",
    "            sub-001_task-prob_run-4_events.tsv\n",
    "            sub-001_task-prob_run-1_events.tsv \n",
    "            sub-001_task-prob_run-3_bold.nii.gz  \n",
    "            sub-001_task-rest_bold.json\n",
    "            sub-001_task-prob_run-2_bold.json    \n",
    "            sub-001_task-prob_run-3_events.tsv  \n",
    "            sub-001_task-rest_bold.nii.gz\n",
    "            sub-001_task-prob_run-2_bold.nii.gz  \n",
    "            sub-001_task-prob_run-4_bold.json  \n",
    "            sub-001_task-rest_events.tsv"
   ]
  },
  {
   "cell_type": "code",
   "execution_count": null,
   "metadata": {},
   "outputs": [],
   "source": []
  }
 ],
 "metadata": {
  "kernelspec": {
   "display_name": "Python 3",
   "language": "python",
   "name": "python3"
  },
  "language_info": {
   "codemirror_mode": {
    "name": "ipython",
    "version": 3
   },
   "file_extension": ".py",
   "mimetype": "text/x-python",
   "name": "python",
   "nbconvert_exporter": "python",
   "pygments_lexer": "ipython3",
   "version": "3.6.7"
  }
 },
 "nbformat": 4,
 "nbformat_minor": 2
}
