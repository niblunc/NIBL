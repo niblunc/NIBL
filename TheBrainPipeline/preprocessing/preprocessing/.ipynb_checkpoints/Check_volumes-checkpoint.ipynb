{
 "cells": [
  {
   "cell_type": "markdown",
   "metadata": {},
   "source": [
    "# Check Volumes "
   ]
  },
  {
   "cell_type": "code",
   "execution_count": null,
   "metadata": {},
   "outputs": [],
   "source": [
    "import pandas as pd\n",
    "import os, glob\n",
    "import subprocess \n",
    "\n",
    "multi = False\n",
    "BIDS_PATH ='/projects/niblab/bids_projects/Experiments/Bevel/BIDS'\n",
    "\n",
    "\n",
    "if multi == False:\n",
    "    SUB_DIRS = sorted(glob.glob(os.path.join(BIDS_PATH, \"sub-*\")))\n",
    "    ALL_FUNCS = sorted(glob.glob(os.path.join(BIDS_PATH, \"sub-*\", \"func\", \"*.nii.gz\")))\n",
    "else:\n",
    "    SUB_DIRS = glob.glob(os.path.join(BIDS_PATH, \"sub-*\", SESS_ID))\n",
    "    ALL_FUNCS = glob.glob(os.path.join(BIDS_PATH, \"sub-*\", SESS_ID, \"func\", \"*.nii.gz\"))\n",
    "\n",
    "for func_ in SUB_DIRS:\n",
    "    cmd = \"fslnvols %s\"%func_\n",
    "    vol = subprocess.check_output([cmd])\n",
    "    print(vol)\n"
   ]
  }
 ],
 "metadata": {
  "kernelspec": {
   "display_name": "Python 3",
   "language": "python",
   "name": "python3"
  },
  "language_info": {
   "codemirror_mode": {
    "name": "ipython",
    "version": 3
   },
   "file_extension": ".py",
   "mimetype": "text/x-python",
   "name": "python",
   "nbconvert_exporter": "python",
   "pygments_lexer": "ipython3",
   "version": "3.6.7"
  }
 },
 "nbformat": 4,
 "nbformat_minor": 2
}
