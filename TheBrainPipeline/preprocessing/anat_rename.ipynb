{
 "cells": [
  {
   "cell_type": "code",
   "execution_count": null,
   "metadata": {},
   "outputs": [],
   "source": [
    "import glob\n",
    "import os\n",
    "import fnmatch\n",
    "import subprocess\n",
    "#import pdb\n",
    "import argparse\n",
    "import shutil\n",
    "\n",
    "def set_paths():\n",
    "    print (\"STARTING PROGRAM, GETTING VARIABLES....\")\n",
    "    global basedir\n",
    "    global deriv_path\n",
    "    global subjects\n",
    "    global SESS_IDs\n",
    "    SESS_ID = \"ses-2\"\n",
    "    #basedir=input(\"Enter your base directory input path: \")\n",
    "    basedir=\"/projects/niblab/bids_projects/Experiments/Bevel\"\n",
    "    #deriv_path=input(\"Enter your derivatives path: \")\n",
    "    deriv_path=os.path.join(basedir, \"derivatives\")\n",
    "    subjects = glob.glob(os.path.join(deriv_path, \"sub-*\"))\n",
    "    print(subjects)\n",
    "    \n",
    "set_paths()\n",
    "\n",
    "def move_anats():\n",
    "    errors = []\n",
    "    print (\"STARTING THE MOVE FILES PROCESS.........\")\n",
    "    for sub_file in subjects:\n",
    "        print(sub_file)\n",
    "        sub = sub_file.split(\"/\")[-1]\n",
    "        #print(\"SUBJECT >>>> %s \\nSUBJECT FILE >>>> %s\" %(sub, sub_file))\n",
    "        #/single_subject_152_wf/anat_preproc_wf/skullstrip_ants_wf/t1_skull_strip\n",
    "        fmriprep_path=os.path.join(basedir, 'fmriprep', sub,'anat/%s_T1w_space-MNI152NLin2009cAsym_preproc.nii.gz'%sub)\n",
    "        anat_output_path=os.path.join(sub_file, 'anat')\n",
    "        #print(\"OUTPUT PATH: \", anat_output_path)\n",
    "        #print(\"FMRIPREP_PATH: \", fmriprep_path)\n",
    "        for file in glob.glob(fmriprep_path):\n",
    "            try:\n",
    "                #print(\"Moving file, %s , into directory located at, %s \\n\"%(file, anat_output_path))\n",
    "                #shutil.move(file, anat_output_path)\n",
    "                print(\"Copying file  %s ---------------------------------------> %s \\n\"%(file, anat_output_path))\n",
    "                shutil.copy(file, anat_output_path)\n",
    "            except shutil.Error as error:\n",
    "                errors.extend(error.args[0])\n",
    "                print(\">>>>>>>>>>>>ERRROR\")\n",
    "            new_name = os.path.join(sub_file, \"anat\", \"highres.nii.gz\")\n",
    "            os.rename(anat_output_path, new_name)\n",
    "            #print(new_exec)\n",
    "move_anats()\n",
    "            "
   ]
  }
 ],
 "metadata": {
  "kernelspec": {
   "display_name": "Python 3",
   "language": "python",
   "name": "python3"
  },
  "language_info": {
   "codemirror_mode": {
    "name": "ipython",
    "version": 3
   },
   "file_extension": ".py",
   "mimetype": "text/x-python",
   "name": "python",
   "nbconvert_exporter": "python",
   "pygments_lexer": "ipython3",
   "version": "3.7.3"
  }
 },
 "nbformat": 4,
 "nbformat_minor": 4
}
