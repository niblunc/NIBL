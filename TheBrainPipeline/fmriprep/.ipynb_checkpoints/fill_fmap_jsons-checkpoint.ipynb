{
 "cells": [
  {
   "cell_type": "code",
   "execution_count": null,
   "metadata": {},
   "outputs": [],
   "source": [
    "import glob, os\n",
    "import json\n",
    "\n",
    "def set_parser():\n",
    "    global arglist\n",
    "    parser=argparse.ArgumentParser(description='Fill in the jsons in BIDS for SDC')\n",
    "    parser.add_argument('-input',dest='IN',\n",
    "                        default=False, help='Enter input directory where sub-*/ folders are held')\n",
    "    args = parser.parse_args()\n",
    "    arglist={}\n",
    "    for a in args._get_kwargs():\n",
    "        arglist[a[0]]=a[1]"
   ]
  },
  {
   "cell_type": "code",
   "execution_count": null,
   "metadata": {},
   "outputs": [],
   "source": [
    "def run_program():\n",
    "    INPUT_DIR = arglist[\"IN\"]\n",
    "    subjects = glob.glob(os.path.join(INPUT_DIR, \"sub-*\"))\n",
    "    for subDir in sorted(subjects):\n",
    "    #initiate the data dictionary\n",
    "        new_data = {\"IntendedFor\" : []}\n",
    "    #grab all the functionals for the subject\n",
    "        funcs=glob.glob(os.path.join(subDir, \"func/*.nii.gz\"))\n",
    "    #fill in our data dictionary with the functionals\n",
    "        for func in funcs:\n",
    "            x = func.split(\"/\")[-1]\n",
    "            x = os.path.join(\"func\",x)\n",
    "            new_data[\"IntendedFor\"].append(x)\n",
    "    #get the json files we need to append data to\n",
    "        jsons=glob.glob(os.path.join(subDir, \"fmap/*.json\"))\n",
    "    #loop through jsons and edit each file\n",
    "        for j in jsons:\n",
    "        #print(new_data)\n",
    "        #open the json file\n",
    "            try:\n",
    "                with open(j) as f:\n",
    "                    data = json.load(f)\n",
    "        #update the data file with our new data\n",
    "                data.update(new_data)\n",
    "        #add the new update to the json file\n",
    "                with open(j, 'w') as f:\n",
    "                    json.dump(data, f, indent=2)\n",
    "            except:\n",
    "                print(\"CANT EDIT FILE \", j)\n",
    "        \n",
    "    #print(\"SUBJECT >>>-----> \", subDir.split(\"/\")[-1])\n",
    "    #print(new_data)\n",
    "\n",
    "def main():\n",
    "    set_parser()\n",
    "    run_program()\n",
    "    \n",
    "if__name__== \"__main__\":\n",
    "    main()"
   ]
  }
 ],
 "metadata": {
  "kernelspec": {
   "display_name": "Python 3",
   "language": "python",
   "name": "python3"
  },
  "language_info": {
   "codemirror_mode": {
    "name": "ipython",
    "version": 3
   },
   "file_extension": ".py",
   "mimetype": "text/x-python",
   "name": "python",
   "nbconvert_exporter": "python",
   "pygments_lexer": "ipython3",
   "version": "3.6.7"
  }
 },
 "nbformat": 4,
 "nbformat_minor": 2
}
