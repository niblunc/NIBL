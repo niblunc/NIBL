{
 "cells": [
  {
   "cell_type": "markdown",
   "metadata": {},
   "source": [
    "# Append functional file references to bids `*.json` files for SDC correction.  \n"
   ]
  },
  {
   "cell_type": "code",
   "execution_count": 39,
   "metadata": {},
   "outputs": [
    {
     "data": {
      "application/vnd.jupyter.widget-view+json": {
       "model_id": "ba6808f50fa340b6a9bb9a0e428337f2",
       "version_major": 2,
       "version_minor": 0
      },
      "text/plain": [
       "Output()"
      ]
     },
     "metadata": {},
     "output_type": "display_data"
    },
    {
     "data": {
      "application/vnd.jupyter.widget-view+json": {
       "model_id": "f1e712b901d14dd3b82aff21bf29d643",
       "version_major": 2,
       "version_minor": 0
      },
      "text/plain": [
       "Text(value='Enter bids path', description='Bids Path: ')"
      ]
     },
     "metadata": {},
     "output_type": "display_data"
    },
    {
     "data": {
      "application/vnd.jupyter.widget-view+json": {
       "model_id": "d6240caad9eb4a4d865e2c62188655da",
       "version_major": 2,
       "version_minor": 0
      },
      "text/plain": [
       "Button(description='ENTER INPUT', style=ButtonStyle(), tooltip='Click me')"
      ]
     },
     "metadata": {},
     "output_type": "display_data"
    }
   ],
   "source": [
    "import ipywidgets as widgets\n",
    "from ipywidgets import interact, interact_manual\n",
    "import os, glob\n",
    "import pandas as pd\n",
    "from IPython.display import display, clear_output\n",
    "import json\n",
    "import argparse \n",
    "\n",
    "\n",
    "   \n",
    "\n",
    "def run_program(bids_path):\n",
    "    bids_path = bids_path\n",
    "    \n",
    "    # check if path exists\n",
    "    if not os.path.exists(bids_path):\n",
    "        print('BIDS PATH NOT FOUND: {} '.format(bids_path))\n",
    "        print(\"Input should look like.... /projects/niblab/bids_projects/Experiments/bro/bids\")\n",
    "        print(\"Please try again.\")\n",
    "\n",
    "    else:\n",
    "        print(\"Found path: {}\".format(bids_path))\n",
    "        print(\"Starting program.......\")\n",
    "        # get subjects \n",
    "\n",
    "        # check if single or multiple sessions\n",
    "\n",
    "        if not glob.glob(os.path.join(bids_path, \"sub-*/ses-*\")):\n",
    "            # no sessions/single session case\n",
    "            subjects = glob.glob(os.path.join(bids_path, \"sub-*\"))\n",
    "            print(\"Multiple sessions not found, running on single sesssion study.....\")\n",
    "            for sub_dir in subjects:\n",
    "                new_data = {\"IntendedFor\" : []}  #initiate the data dictionary\n",
    "                funcs=glob.glob(os.path.join(sub_dir, \"func/*.nii.gz\")) #grab all the functionals for the subject\n",
    "\n",
    "                #fill in our data dictionary with the functionals\n",
    "                for func in funcs:\n",
    "                    x = func.split(\"/\")[-1]\n",
    "                    x = os.path.join(\"func\",x)\n",
    "                    new_data[\"IntendedFor\"].append(x)\n",
    "\n",
    "                #get the json files we need to append data to\n",
    "                jsons=glob.glob(os.path.join(sess_dir, \"fmap/*.json\"))\n",
    "\n",
    "                #loop through jsons and edit each file\n",
    "                for j in jsons:\n",
    "                    #print(\"\\nEditing file %s, appending....... \\n%s\"%(j,new_data))\n",
    "                    #open the json file\n",
    "                    try:\n",
    "                        with open(j) as f:\n",
    "                            data = json.load(f)\n",
    "                             #print(data)\n",
    "                            #update the data file with our new data\n",
    "                            data.update(new_data)\n",
    "                        #add the new update to the json file\n",
    "                        #with open(j, 'w') as f:\n",
    "                            #json.dump(data, f, indent=2)\n",
    "                    except:\n",
    "                        print(\"Error editing file {} : CHECK PERMISSIONS \".format(j))\n",
    "            print(\"Completed process, functionals are now appended to jsons.\")\n",
    "\n",
    "\n",
    "        else:\n",
    "            # multiple sesssions case\n",
    "            sessions=glob.glob(os.path.join(bids_path, \"sub-*/ses-*\"))\n",
    "            print(\"Multiple sessions not found, running on all available sessions.....\")\n",
    "\n",
    "            for sess_dir in sorted(sessions):\n",
    "                new_data = {\"IntendedFor\" : []}  #initiate the data dictionary\n",
    "                funcs=glob.glob(os.path.join(sess_dir, \"func/*.nii.gz\")) #grab all the functionals for the subject\n",
    "\n",
    "                #fill in our data dictionary with the functionals\n",
    "                for func in funcs:\n",
    "                    x = func.split(\"/\")[-1]\n",
    "                    x = os.path.join(\"func\",x)\n",
    "                    new_data[\"IntendedFor\"].append(x)\n",
    "\n",
    "                #get the json files we need to append data to\n",
    "                jsons=glob.glob(os.path.join(sess_dir, \"fmap/*.json\"))\n",
    "\n",
    "                #loop through jsons and edit each file\n",
    "                for j in jsons:\n",
    "                    #print(\"\\nEditing file %s......\"%(j))\n",
    "                    #open the json file\n",
    "                    try:\n",
    "                        with open(j) as f:\n",
    "                            data = json.load(f)\n",
    "                            #print(data)\n",
    "                            #update the data file with our new data\n",
    "                            data.update(new_data)\n",
    "                        #add the new update to the json file\n",
    "                        with open(j, 'w') as f:\n",
    "                            json.dump(data, f, indent=2)\n",
    "                    except:\n",
    "                        print(\"Error editing file {} : CHECK PERMISSIONS \".format(j))\n",
    "            print(\"Completed process, functionals are now appended to jsons.\")\n",
    "def on_input_button_clicked(b):\n",
    "\n",
    "    with out:\n",
    "        clear_output()\n",
    "        run_program(text_input.value)\n",
    "        \n",
    "        \n",
    "\n",
    "#def f(bids_path):\n",
    " #   pass\n",
    "    #run_program(bids_path)\n",
    "\n",
    "out = widgets.Output()\n",
    "    \n",
    "text_input = widgets.Text(description = \"Bids Path: \", value= \"Enter bids path\") #style=style)\n",
    "display(out)\n",
    "#interact(f, bids_path='Enter bids path')\n",
    "btn_input = widgets.Button(description=\"ENTER INPUT\", tooltip=\"Click me\")\n",
    "display(text_input, btn_input)\n",
    "btn_input.on_click(on_input_button_clicked)\n",
    "\n"
   ]
  }
 ],
 "metadata": {
  "kernelspec": {
   "display_name": "Python 3",
   "language": "python",
   "name": "python3"
  },
  "language_info": {
   "codemirror_mode": {
    "name": "ipython",
    "version": 3
   },
   "file_extension": ".py",
   "mimetype": "text/x-python",
   "name": "python",
   "nbconvert_exporter": "python",
   "pygments_lexer": "ipython3",
   "version": "3.7.4"
  }
 },
 "nbformat": 4,
 "nbformat_minor": 2
}
