{
 "cells": [
  {
   "cell_type": "markdown",
   "metadata": {},
   "source": [
    "# Cleaning up BIDS\n",
    "When the conversion has completed, we need to clean up the directory so it will pass BIDS validation. "
   ]
  },
  {
   "cell_type": "code",
   "execution_count": null,
   "metadata": {},
   "outputs": [],
   "source": [
    "import os, glob\n",
    "\n",
    "\n",
    "BIDS_DIR_PATH = \"/projects/niblab/bids_projects/Experiments/bbx/BIDS/ses-1\"\n",
    "SUBJECTS = sorted(glob.glob(os.path.join(BIDS_DIR_PATH, \"sub-*\")))\n",
    "\n",
    "# move one dataset_description.json/README/CHANGES to main directory\n",
    "\n",
    "\n",
    "# remove the remaining README/CHANGES and *.json files in the subject directories \n",
    "jsons = glob.glob(os.path.join(BIDS_DIR_PATH, \"sub-*\", \"*.json\"))\n",
    "for json in jsons:\n",
    "    print(\">>>---> removing jsons \")\n",
    "    os.remove(json)\n",
    "readmes = glob.glob(os.path.join(BIDS_DIR_PATH, \"sub-*\", \"README\"))\n",
    "for readme in readmes:\n",
    "    print(\">>>---> removing README \")\n",
    "    os.remove(readme)\n",
    "changes = glob.glob(os.path.join(BIDS_DIR_PATH, \"sub-*\", \"CHANGES\"))\n",
    "for change in changes:\n",
    "    print(\">>>---> removing CHANGES \")\n",
    "    os.remove(change)\n",
    "    \n",
    "# concatenate participants.tsv into one large participants.tsv and move \n",
    "# to the main directory \n",
    "participant_file = open(os.path.join(BIDS_DIR_PATH, \"participants.tsv\"), \"w\")\n",
    "for sub_dir in SUBJECTS:\n",
    "    sub_id = sub_dir.split(\"/\")[-1]\n",
    "    file = open(os.path.join(BIDS_DIR_PATH, sub_id, \"participants.tsv\"), \"r\")\n",
    "    for line in file:\n",
    "        if line.startswith(\"sub\"):\n",
    "            line = line.strip(\"\\n\")\n",
    "            _list = line.split(\"\\t\")\n",
    "    _list[0] = sub_id\n",
    "    print(_list)\n",
    "        \n",
    "    \n",
    "\n"
   ]
  }
 ],
 "metadata": {
  "kernelspec": {
   "display_name": "Python 3",
   "language": "python",
   "name": "python3"
  },
  "language_info": {
   "codemirror_mode": {
    "name": "ipython",
    "version": 3
   },
   "file_extension": ".py",
   "mimetype": "text/x-python",
   "name": "python",
   "nbconvert_exporter": "python",
   "pygments_lexer": "ipython3",
   "version": "3.6.7"
  }
 },
 "nbformat": 4,
 "nbformat_minor": 2
}
